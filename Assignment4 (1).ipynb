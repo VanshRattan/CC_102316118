{
  "nbformat": 4,
  "nbformat_minor": 0,
  "metadata": {
    "colab": {
      "provenance": []
    },
    "kernelspec": {
      "name": "python3",
      "display_name": "Python 3"
    },
    "language_info": {
      "name": "python"
    }
  },
  "cells": [
    {
      "cell_type": "code",
      "execution_count": null,
      "metadata": {
        "colab": {
          "base_uri": "https://localhost:8080/"
        },
        "id": "dLSY9RVXlHV_",
        "outputId": "a63abe02-0f47-4f4a-ec91-be8b87246e96"
      },
      "outputs": [
        {
          "output_type": "stream",
          "name": "stdout",
          "text": [
            "Addition: [3 4 5 6 7]\n",
            "Multiplication: [ 3  6  9 12 15]\n",
            "Division: [0.5 1.  1.5 2.  2.5]\n"
          ]
        }
      ],
      "source": [
        "#Q1:\n",
        "import numpy as np\n",
        "arr = np.array([1, 2, 3, 4, 5])\n",
        "add_result = arr + 2\n",
        "mul_result = arr * 3\n",
        "div_result = arr / 2\n",
        "print(\"Addition:\", add_result)\n",
        "print(\"Multiplication:\", mul_result)\n",
        "print(\"Division:\", div_result)\n",
        "\n"
      ]
    },
    {
      "cell_type": "code",
      "source": [
        "#Q2:\n",
        "import numpy as np\n",
        "numbers = np.array([1, 2, 3, 6, 4, 5])\n",
        "reversed_numbers = numbers[::-1]\n",
        "print(\"Reversed Array:\", reversed_numbers)\n",
        "array1 = np.array([1, 2, 3, 4, 5, 1, 2, 1, 1])\n",
        "array2 = np.array([1, 1, 1, 2, 3, 4, 2, 4, 3, 3])\n",
        "most_common1 = np.bincount(array1).argmax()\n",
        "most_common2 = np.bincount(array2).argmax()\n",
        "indices1 = np.where(array1 == most_common1)[0]\n",
        "indices2 = np.where(array2 == most_common2)[0]\n",
        "print(\"Most frequent in array1:\", most_common1, \"at positions\", indices1)\n",
        "print(\"Most frequent in array2:\", most_common2, \"at positions\", indices2)\n"
      ],
      "metadata": {
        "colab": {
          "base_uri": "https://localhost:8080/"
        },
        "id": "luPac-FvlXxW",
        "outputId": "686ea30f-ba2d-48ba-844e-2e134af5bb21"
      },
      "execution_count": null,
      "outputs": [
        {
          "output_type": "stream",
          "name": "stdout",
          "text": [
            "Reversed Array: [5 4 6 3 2 1]\n",
            "Most frequent in array1: 1 at positions [0 5 7 8]\n",
            "Most frequent in array2: 1 at positions [0 1 2]\n"
          ]
        }
      ]
    },
    {
      "cell_type": "code",
      "source": [
        "#Q3:\n",
        "arr = np.array([[10, 20, 30], [40, 50, 60], [70, 80, 90]])\n",
        "print(\"Element at 1st row, 2nd column:\", arr[0, 1])\n",
        "print(\"Element at 3rd row, 1st column:\", arr[2, 0])\n"
      ],
      "metadata": {
        "colab": {
          "base_uri": "https://localhost:8080/"
        },
        "id": "KZt7J5wtlkaP",
        "outputId": "ff9fbce3-4fec-4fd1-d0dc-54055768507a"
      },
      "execution_count": null,
      "outputs": [
        {
          "output_type": "stream",
          "name": "stdout",
          "text": [
            "Element at 1st row, 2nd column: 20\n",
            "Element at 3rd row, 1st column: 70\n"
          ]
        }
      ]
    },
    {
      "cell_type": "code",
      "source": [
        "#Q4:\n",
        "name = \" VanshRattan\"\n",
        "arr = np.linspace(10, 100, 25)\n",
        "print(f\"Array: {arr}\")\n",
        "print(\"Dimensions:\", arr.ndim)\n",
        "print(\"Shape:\", arr.shape)\n",
        "print(\"Data Type:\", arr.dtype)\n",
        "print(\"Total Bytes:\", arr.nbytes)\n",
        "reshaped_arr = arr.reshape(5, 5)\n",
        "transposed_arr = reshaped_arr.T\n",
        "print(\"Transposed Array:\\n\", transposed_arr)\n"
      ],
      "metadata": {
        "colab": {
          "base_uri": "https://localhost:8080/"
        },
        "id": "UJ5TGbuJlqCD",
        "outputId": "5f9493ce-bbaa-4a4a-9b2a-cce4f212d57f"
      },
      "execution_count": null,
      "outputs": [
        {
          "output_type": "stream",
          "name": "stdout",
          "text": [
            "Array: [ 10.    13.75  17.5   21.25  25.    28.75  32.5   36.25  40.    43.75\n",
            "  47.5   51.25  55.    58.75  62.5   66.25  70.    73.75  77.5   81.25\n",
            "  85.    88.75  92.5   96.25 100.  ]\n",
            "Dimensions: 1\n",
            "Shape: (25,)\n",
            "Data Type: float64\n",
            "Total Bytes: 200\n",
            "Transposed Array:\n",
            " [[ 10.    28.75  47.5   66.25  85.  ]\n",
            " [ 13.75  32.5   51.25  70.    88.75]\n",
            " [ 17.5   36.25  55.    73.75  92.5 ]\n",
            " [ 21.25  40.    58.75  77.5   96.25]\n",
            " [ 25.    43.75  62.5   81.25 100.  ]]\n"
          ]
        }
      ]
    },
    {
      "cell_type": "code",
      "source": [
        "#Q5:\n",
        "name = \"VanshRattan\"\n",
        "\n",
        "ucs420_arr = np.array([\n",
        "    [10, 20, 30, 40],\n",
        "    [50, 60, 70, 80],\n",
        "    [90, 15, 20, 35]\n",
        "])\n",
        "\n",
        "print(\"Mean:\", np.mean(ucs420_arr))\n",
        "print(\"Median:\", np.median(ucs420_arr))\n",
        "print(\"Max:\", np.max(ucs420_arr))\n",
        "print(\"Min:\", np.min(ucs420_arr))\n",
        "print(\"Unique Elements:\", np.unique(ucs420_arr))\n",
        "\n",
        "reshaped_arr = ucs420_arr.reshape(4, 3)\n",
        "print(\"Reshaped (4x3):\\n\", reshaped_arr)\n",
        "\n",
        "resized_arr = ucs420_arr.reshape(2, 6)\n",
        "print(\"Resized (2x6):\\n\", resized_arr)\n"
      ],
      "metadata": {
        "colab": {
          "base_uri": "https://localhost:8080/"
        },
        "id": "Tj8l138OmVRN",
        "outputId": "67f1058f-fd66-4a2b-c1ec-d5050ab1bcbb"
      },
      "execution_count": null,
      "outputs": [
        {
          "output_type": "stream",
          "name": "stdout",
          "text": [
            "Mean: 43.333333333333336\n",
            "Median: 37.5\n",
            "Max: 90\n",
            "Min: 10\n",
            "Unique Elements: [10 15 20 30 35 40 50 60 70 80 90]\n",
            "Reshaped (4x3):\n",
            " [[10 20 30]\n",
            " [40 50 60]\n",
            " [70 80 90]\n",
            " [15 20 35]]\n",
            "Resized (2x6):\n",
            " [[10 20 30 40 50 60]\n",
            " [70 80 90 15 20 35]]\n"
          ]
        }
      ]
    }
  ]
}